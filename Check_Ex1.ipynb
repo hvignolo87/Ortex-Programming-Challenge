{
 "cells": [
  {
   "cell_type": "code",
   "execution_count": 1,
   "id": "a51cdfff",
   "metadata": {},
   "outputs": [],
   "source": [
    "import pandas as pd"
   ]
  },
  {
   "cell_type": "code",
   "execution_count": 2,
   "id": "185462c2",
   "metadata": {},
   "outputs": [],
   "source": [
    "df = pd.read_csv('2017.csv')"
   ]
  },
  {
   "cell_type": "code",
   "execution_count": 3,
   "id": "e17076a2",
   "metadata": {},
   "outputs": [
    {
     "data": {
      "text/plain": [
       "Index(['transactionID', 'gvkey', 'companyName', 'companyISIN', 'companySEDOL',\n",
       "       'insiderID', 'insiderName', 'insiderRelation', 'insiderLevel',\n",
       "       'connectionType', 'connectedInsiderName', 'connectedInsiderPosition',\n",
       "       'transactionType', 'transactionLabel', 'iid', 'securityISIN',\n",
       "       'securitySEDOL', 'securityDisplay', 'assetClass', 'shares', 'inputdate',\n",
       "       'tradedate', 'maxTradedate', 'price', 'maxPrice', 'value', 'currency',\n",
       "       'valueEUR', 'unit', 'correctedTransactionID', 'source',\n",
       "       'tradeSignificance', 'holdings', 'filingURL', 'exchange'],\n",
       "      dtype='object')"
      ]
     },
     "execution_count": 3,
     "metadata": {},
     "output_type": "execute_result"
    }
   ],
   "source": [
    "df.keys()"
   ]
  },
  {
   "cell_type": "code",
   "execution_count": 4,
   "id": "acdc58fb",
   "metadata": {},
   "outputs": [
    {
     "data": {
      "text/plain": [
       "off exchange                      9588\n",
       "LSE (UK)                          3146\n",
       "Euronext Paris (France)           2889\n",
       "Istanbul (Turkey)                 2444\n",
       "Warsaw Stock Exchange (Poland)    2107\n",
       "                                  ... \n",
       "Lang & Schwarz (Germany)             1\n",
       "BATS Europe Dark                     1\n",
       "New York (USA)                       1\n",
       "CAPPED PRICE                         1\n",
       "BROKER                               1\n",
       "Name: exchange, Length: 101, dtype: int64"
      ]
     },
     "execution_count": 4,
     "metadata": {},
     "output_type": "execute_result"
    }
   ],
   "source": [
    "# What Exchange has had the most transactions in the file?\n",
    "df['exchange'].value_counts().sort_values(ascending=False)"
   ]
  },
  {
   "cell_type": "code",
   "execution_count": 10,
   "id": "98fda224",
   "metadata": {},
   "outputs": [
    {
     "data": {
      "text/html": [
       "<div>\n",
       "<style scoped>\n",
       "    .dataframe tbody tr th:only-of-type {\n",
       "        vertical-align: middle;\n",
       "    }\n",
       "\n",
       "    .dataframe tbody tr th {\n",
       "        vertical-align: top;\n",
       "    }\n",
       "\n",
       "    .dataframe thead th {\n",
       "        text-align: right;\n",
       "    }\n",
       "</style>\n",
       "<table border=\"1\" class=\"dataframe\">\n",
       "  <thead>\n",
       "    <tr style=\"text-align: right;\">\n",
       "      <th></th>\n",
       "      <th>company_name</th>\n",
       "      <th>value_eur</th>\n",
       "    </tr>\n",
       "  </thead>\n",
       "  <tbody>\n",
       "    <tr>\n",
       "      <th>145</th>\n",
       "      <td>WHEELSURE HOLDINGS PLC</td>\n",
       "      <td>0.000000e+00</td>\n",
       "    </tr>\n",
       "    <tr>\n",
       "      <th>596</th>\n",
       "      <td>NATIONAL GRID</td>\n",
       "      <td>0.000000e+00</td>\n",
       "    </tr>\n",
       "    <tr>\n",
       "      <th>570</th>\n",
       "      <td>TETRAGON FINANCIAL</td>\n",
       "      <td>0.000000e+00</td>\n",
       "    </tr>\n",
       "    <tr>\n",
       "      <th>534</th>\n",
       "      <td>DEPA LTD</td>\n",
       "      <td>0.000000e+00</td>\n",
       "    </tr>\n",
       "    <tr>\n",
       "      <th>105</th>\n",
       "      <td>HELICAL PLC</td>\n",
       "      <td>0.000000e+00</td>\n",
       "    </tr>\n",
       "    <tr>\n",
       "      <th>...</th>\n",
       "      <td>...</td>\n",
       "      <td>...</td>\n",
       "    </tr>\n",
       "    <tr>\n",
       "      <th>50</th>\n",
       "      <td>AXACTOR AB</td>\n",
       "      <td>4.008254e+07</td>\n",
       "    </tr>\n",
       "    <tr>\n",
       "      <th>27</th>\n",
       "      <td>AEROPORTO GUGLIELMO MARCON</td>\n",
       "      <td>6.457114e+07</td>\n",
       "    </tr>\n",
       "    <tr>\n",
       "      <th>231</th>\n",
       "      <td>CHRISTIAN DIOR SE</td>\n",
       "      <td>1.249210e+08</td>\n",
       "    </tr>\n",
       "    <tr>\n",
       "      <th>603</th>\n",
       "      <td>EUROSIC SA</td>\n",
       "      <td>9.368633e+08</td>\n",
       "    </tr>\n",
       "    <tr>\n",
       "      <th>11</th>\n",
       "      <td>HSBC HLDGS PLC</td>\n",
       "      <td>3.311729e+09</td>\n",
       "    </tr>\n",
       "  </tbody>\n",
       "</table>\n",
       "<p>659 rows × 2 columns</p>\n",
       "</div>"
      ],
      "text/plain": [
       "                   company_name     value_eur\n",
       "145      WHEELSURE HOLDINGS PLC  0.000000e+00\n",
       "596               NATIONAL GRID  0.000000e+00\n",
       "570          TETRAGON FINANCIAL  0.000000e+00\n",
       "534                    DEPA LTD  0.000000e+00\n",
       "105                 HELICAL PLC  0.000000e+00\n",
       "..                          ...           ...\n",
       "50                   AXACTOR AB  4.008254e+07\n",
       "27   AEROPORTO GUGLIELMO MARCON  6.457114e+07\n",
       "231           CHRISTIAN DIOR SE  1.249210e+08\n",
       "603                  EUROSIC SA  9.368633e+08\n",
       "11               HSBC HLDGS PLC  3.311729e+09\n",
       "\n",
       "[659 rows x 2 columns]"
      ]
     },
     "execution_count": 10,
     "metadata": {},
     "output_type": "execute_result"
    }
   ],
   "source": [
    "# In August 2017, which companyName had the highest combined valueEUR?\n",
    "date = df['inputdate'].astype('str').str.contains('201708')\n",
    "aug_2017 = df[date == True]\n",
    "aug_2017 = aug_2017.loc[:, ['companyName', 'valueEUR']].reset_index()\n",
    "\n",
    "companies = aug_2017['companyName'].unique()\n",
    "\n",
    "res = {}\n",
    "\n",
    "for companie in companies:\n",
    "    res[companie] = aug_2017[aug_2017['companyName'] == companie]['valueEUR'].sum()\n",
    "    \n",
    "res = pd.DataFrame(list(res.items()), columns=['company_name', 'value_eur'])\n",
    "res.sort_values(by='value_eur', ascending=False)"
   ]
  },
  {
   "cell_type": "code",
   "execution_count": null,
   "id": "142bcf2a",
   "metadata": {},
   "outputs": [],
   "source": []
  }
 ],
 "metadata": {
  "kernelspec": {
   "display_name": "Python 3 (ipykernel)",
   "language": "python",
   "name": "python3"
  },
  "language_info": {
   "codemirror_mode": {
    "name": "ipython",
    "version": 3
   },
   "file_extension": ".py",
   "mimetype": "text/x-python",
   "name": "python",
   "nbconvert_exporter": "python",
   "pygments_lexer": "ipython3",
   "version": "3.9.12"
  }
 },
 "nbformat": 4,
 "nbformat_minor": 5
}
